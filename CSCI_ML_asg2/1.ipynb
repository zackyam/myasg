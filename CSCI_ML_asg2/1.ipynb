{
 "cells": [
  {
   "cell_type": "code",
   "execution_count": 1,
   "id": "challenging-forge",
   "metadata": {},
   "outputs": [],
   "source": [
    "import numpy as np\n",
    "import matplotlib.pyplot as plt\n",
    "from sklearn.datasets import make_blobs\n",
    "from sklearn.model_selection import train_test_split\n"
   ]
  },
  {
   "cell_type": "code",
   "execution_count": 2,
   "id": "recognized-prediction",
   "metadata": {},
   "outputs": [],
   "source": [
    "def logistic_func(x):\n",
    "\n",
    "    L = 1/(1+np.exp(-x))\n",
    "    return L\n"
   ]
  },
  {
   "cell_type": "code",
   "execution_count": 3,
   "id": "outer-student",
   "metadata": {},
   "outputs": [],
   "source": [
    "def train(X_train, y_train, tol=10 ** -4):\n",
    "\n",
    "    LearningRate = 0.05\n",
    "    x1 = X_train[:,0]\n",
    "    x2 = X_train[:,1]\n",
    "    x0 = np.ones(len(x1))\n",
    "    w1 = 0.01\n",
    "    w2 = 0.01\n",
    "    w0 = 0.01\n",
    "    W = [w0, w1, w2]\n",
    "    X = [x0, x1, x2]\n",
    "    cw = [1,1,1]\n",
    "    oldw = [1,1,1]\n",
    "    diff = tol + 1\n",
    "    weights = []\n",
    "    \n",
    "    while diff > tol:\n",
    "        for n,i in enumerate(cw):\n",
    "            cw[n] = 0.0\n",
    "        for t in range(len(x1)):\n",
    "            O = 0\n",
    "            for j in range(len(W)):\n",
    "                O = O + W[j] * X[j]\n",
    "            y = 1.0/(1.0+np.exp(-O))\n",
    "            #y = expit(O)\n",
    "            for j in range(len(W)):\n",
    "                cw[j] = cw[j] + (y_train[t]- y[t]) * X[j][t]\n",
    "        for j in range(len(W)):\n",
    "            oldw[j] = W[j]\n",
    "            W[j] = W[j] + LearningRate * cw[j]\n",
    "            diff = abs(W[j] - oldw[j]).sum()\n",
    "        weights = W\n",
    "    return weights"
   ]
  },
  {
   "cell_type": "code",
   "execution_count": 4,
   "id": "chicken-ceramic",
   "metadata": {
    "scrolled": true
   },
   "outputs": [],
   "source": [
    "def train_matrix(X_train, y_train, tol=10 ** -4):\n",
    "\n",
    "    LearningRate = 0.05\n",
    "\n",
    "    x0 =  np.ones((X_train.shape[0], 1))\n",
    "    X = np.concatenate((x0,X_train), axis = 1)\n",
    "    W = np.array([0.01,0.01,0.01])\n",
    "    W = W.reshape(3, 1)\n",
    "    Y = y_train.reshape(750, 1)\n",
    "    D = (X, Y)\n",
    "    diff = tol + 1\n",
    "    weights = []\n",
    "    while diff > tol:\n",
    "        for t in range(len(X)):\n",
    "            O = 0\n",
    "            O = O + X @ W\n",
    "            y = 1.0/(1.0+np.exp(-O))\n",
    "            oldW = W\n",
    "            W = W + LearningRate * X.T @ (Y - y)\n",
    "            diff = abs(W - oldW).sum()\n",
    "            weights = W\n",
    "            \n",
    "    return weights"
   ]
  },
  {
   "cell_type": "code",
   "execution_count": 5,
   "id": "elder-bhutan",
   "metadata": {},
   "outputs": [],
   "source": [
    "def predict(X_test, weights):\n",
    "    \n",
    "    x0 =  np.ones((X_test.shape[0], 1))\n",
    "    X = np.concatenate((x0,X_test), axis = 1)\n",
    "    W = weights\n",
    "    y = 1.0/(1.0+np.exp(-(X@W)))\n",
    "    y[ y >= 0.5] = 1\n",
    "    y[ y < 0.5] = 0\n",
    "    predictions = y\n",
    "    return predictions"
   ]
  },
  {
   "cell_type": "code",
   "execution_count": 6,
   "id": "english-geneva",
   "metadata": {},
   "outputs": [],
   "source": [
    "def plot_prediction(X_test, X_test_prediction):\n",
    "    X_test1 = X_test[X_test_prediction == 0, :]\n",
    "    X_test2 = X_test[X_test_prediction == 1, :]\n",
    "    plt.scatter(X_test1[:, 0], X_test1[:, 1], color='red')\n",
    "    plt.scatter(X_test2[:, 0], X_test2[:, 1], color='blue')\n",
    "    plt.show()"
   ]
  },
  {
   "cell_type": "code",
   "execution_count": 7,
   "id": "utility-allowance",
   "metadata": {},
   "outputs": [
    {
     "data": {
      "image/png": "[encoded data removed]",
      "text/plain": [
       "<Figure size 432x288 with 1 Axes>"
      ]
     },
     "metadata": {
      "needs_background": "light"
     },
     "output_type": "display_data"
    },
    {
     "data": {
      "image/png": "[encoded data removed]",
      "text/plain": [
       "<Figure size 432x288 with 1 Axes>"
      ]
     },
     "metadata": {
      "needs_background": "light"
     },
     "output_type": "display_data"
    },
    {
     "name": "stdout",
     "output_type": "stream",
     "text": [
      "Number of wrong predictions is: 0\n"
     ]
    }
   ],
   "source": [
    "n_samples = 1000\n",
    "\n",
    "centers = [(-1, -1), (5, 10)]\n",
    "X, y = make_blobs(n_samples=n_samples, n_features=2, cluster_std=1.8,\n",
    "                  centers=centers, shuffle=False, random_state=42)\n",
    "\n",
    "X_train, X_test, y_train, y_test = train_test_split(X, y, random_state=42)\n",
    "\n",
    "# Experiments\n",
    "w = train(X_train, y_train)\n",
    "X_test_prediction = predict(X_test, w)\n",
    "plot_prediction(X_test, X_test_prediction)\n",
    "plot_prediction(X_test, y_test)\n",
    "\n",
    "wrong = np.count_nonzero(y_test - X_test_prediction)\n",
    "print('Number of wrong predictions is: ' + str(wrong))\n"
   ]
  }
 ],
 "metadata": {
  "kernelspec": {
   "display_name": "Python 3",
   "language": "python",
   "name": "python3"
  },
  "language_info": {
   "codemirror_mode": {
    "name": "ipython",
    "version": 3
   },
   "file_extension": ".py",
   "mimetype": "text/x-python",
   "name": "python",
   "nbconvert_exporter": "python",
   "pygments_lexer": "ipython3",
   "version": "3.8.5"
  }
 },
 "nbformat": 4,
 "nbformat_minor": 5
}
