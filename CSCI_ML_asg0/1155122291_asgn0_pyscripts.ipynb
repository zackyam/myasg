{
 "cells": [
  {
   "cell_type": "code",
   "execution_count": 23,
   "id": "liked-philippines",
   "metadata": {},
   "outputs": [],
   "source": [
    "import numpy as np\n",
    "import pandas as pd\n",
    "from collections import defaultdict\n",
    "import pandas as pd\n",
    "import matplotlib.pyplot as plt"
   ]
  },
  {
   "cell_type": "markdown",
   "id": "opened-reader",
   "metadata": {},
   "source": [
    "## 2.1 Generate Sampling Means and PMF"
   ]
  },
  {
   "cell_type": "code",
   "execution_count": 24,
   "id": "optional-saudi",
   "metadata": {},
   "outputs": [],
   "source": [
    "data = np.loadtxt(\"data.txt\",skiprows=3)"
   ]
  },
  {
   "cell_type": "code",
   "execution_count": 25,
   "id": "social-worthy",
   "metadata": {},
   "outputs": [],
   "source": [
    "def generate_samples_means(n):\n",
    "    \n",
    "    sample = [data[k:k+n] for k in range(0, len(data), n)]\n",
    "    sample_df = pd.DataFrame(sample)\n",
    "    sample_df.rename(columns = {0:'sample_1', 1:'sample_2', 2:'sample_3', 3:'sample_4', 4:'sample_5', }, inplace = True) \n",
    "    \n",
    "    a = np.arange(data.size)//n\n",
    "    b = np.bincount(np.arange(a.size)//n,data)/np.bincount(np.arange(a.size)//n)\n",
    "    sample_means = b.tolist()\n",
    "    sample_mean_df = pd.DataFrame(sample_means)\n",
    "    sample_mean_df.rename(columns = {0:'sample_means'  }, inplace = True) \n",
    "    \n",
    "    groups_means = pd.concat([sample_df, sample_mean_df], axis=1)\n",
    "    \n",
    "    return groups_means\n",
    "\n"
   ]
  },
  {
   "cell_type": "code",
   "execution_count": 26,
   "id": "exterior-earth",
   "metadata": {
    "scrolled": false
   },
   "outputs": [
    {
     "data": {
      "text/html": [
       "<div>\n",
       "<style scoped>\n",
       "    .dataframe tbody tr th:only-of-type {\n",
       "        vertical-align: middle;\n",
       "    }\n",
       "\n",
       "    .dataframe tbody tr th {\n",
       "        vertical-align: top;\n",
       "    }\n",
       "\n",
       "    .dataframe thead th {\n",
       "        text-align: right;\n",
       "    }\n",
       "</style>\n",
       "<table border=\"1\" class=\"dataframe\">\n",
       "  <thead>\n",
       "    <tr style=\"text-align: right;\">\n",
       "      <th></th>\n",
       "      <th>sample_1</th>\n",
       "      <th>sample_2</th>\n",
       "      <th>sample_3</th>\n",
       "      <th>sample_4</th>\n",
       "      <th>sample_5</th>\n",
       "      <th>sample_means</th>\n",
       "    </tr>\n",
       "  </thead>\n",
       "  <tbody>\n",
       "    <tr>\n",
       "      <th>0</th>\n",
       "      <td>0.447033</td>\n",
       "      <td>0.583482</td>\n",
       "      <td>0.477038</td>\n",
       "      <td>0.576808</td>\n",
       "      <td>0.528370</td>\n",
       "      <td>0.522546</td>\n",
       "    </tr>\n",
       "    <tr>\n",
       "      <th>1</th>\n",
       "      <td>0.545548</td>\n",
       "      <td>0.685800</td>\n",
       "      <td>0.442937</td>\n",
       "      <td>0.533431</td>\n",
       "      <td>0.529432</td>\n",
       "      <td>0.547430</td>\n",
       "    </tr>\n",
       "    <tr>\n",
       "      <th>2</th>\n",
       "      <td>0.470548</td>\n",
       "      <td>0.585316</td>\n",
       "      <td>0.571458</td>\n",
       "      <td>0.418927</td>\n",
       "      <td>0.470179</td>\n",
       "      <td>0.503285</td>\n",
       "    </tr>\n",
       "    <tr>\n",
       "      <th>3</th>\n",
       "      <td>0.486925</td>\n",
       "      <td>0.375148</td>\n",
       "      <td>0.497474</td>\n",
       "      <td>0.553072</td>\n",
       "      <td>0.488703</td>\n",
       "      <td>0.480264</td>\n",
       "    </tr>\n",
       "    <tr>\n",
       "      <th>4</th>\n",
       "      <td>0.561398</td>\n",
       "      <td>0.563814</td>\n",
       "      <td>0.509166</td>\n",
       "      <td>0.578537</td>\n",
       "      <td>0.515642</td>\n",
       "      <td>0.545712</td>\n",
       "    </tr>\n",
       "    <tr>\n",
       "      <th>...</th>\n",
       "      <td>...</td>\n",
       "      <td>...</td>\n",
       "      <td>...</td>\n",
       "      <td>...</td>\n",
       "      <td>...</td>\n",
       "      <td>...</td>\n",
       "    </tr>\n",
       "    <tr>\n",
       "      <th>19995</th>\n",
       "      <td>0.625198</td>\n",
       "      <td>0.407890</td>\n",
       "      <td>0.547911</td>\n",
       "      <td>0.492213</td>\n",
       "      <td>0.479616</td>\n",
       "      <td>0.510566</td>\n",
       "    </tr>\n",
       "    <tr>\n",
       "      <th>19996</th>\n",
       "      <td>0.477059</td>\n",
       "      <td>0.303361</td>\n",
       "      <td>0.518820</td>\n",
       "      <td>0.347662</td>\n",
       "      <td>0.377563</td>\n",
       "      <td>0.404893</td>\n",
       "    </tr>\n",
       "    <tr>\n",
       "      <th>19997</th>\n",
       "      <td>0.422774</td>\n",
       "      <td>0.492952</td>\n",
       "      <td>0.607991</td>\n",
       "      <td>0.287632</td>\n",
       "      <td>0.554446</td>\n",
       "      <td>0.473159</td>\n",
       "    </tr>\n",
       "    <tr>\n",
       "      <th>19998</th>\n",
       "      <td>0.475346</td>\n",
       "      <td>0.449986</td>\n",
       "      <td>0.425173</td>\n",
       "      <td>0.417910</td>\n",
       "      <td>0.536878</td>\n",
       "      <td>0.461059</td>\n",
       "    </tr>\n",
       "    <tr>\n",
       "      <th>19999</th>\n",
       "      <td>0.398388</td>\n",
       "      <td>0.424605</td>\n",
       "      <td>0.722606</td>\n",
       "      <td>0.254769</td>\n",
       "      <td>0.508099</td>\n",
       "      <td>0.461693</td>\n",
       "    </tr>\n",
       "  </tbody>\n",
       "</table>\n",
       "<p>20000 rows × 6 columns</p>\n",
       "</div>"
      ],
      "text/plain": [
       "       sample_1  sample_2  sample_3  sample_4  sample_5  sample_means\n",
       "0      0.447033  0.583482  0.477038  0.576808  0.528370      0.522546\n",
       "1      0.545548  0.685800  0.442937  0.533431  0.529432      0.547430\n",
       "2      0.470548  0.585316  0.571458  0.418927  0.470179      0.503285\n",
       "3      0.486925  0.375148  0.497474  0.553072  0.488703      0.480264\n",
       "4      0.561398  0.563814  0.509166  0.578537  0.515642      0.545712\n",
       "...         ...       ...       ...       ...       ...           ...\n",
       "19995  0.625198  0.407890  0.547911  0.492213  0.479616      0.510566\n",
       "19996  0.477059  0.303361  0.518820  0.347662  0.377563      0.404893\n",
       "19997  0.422774  0.492952  0.607991  0.287632  0.554446      0.473159\n",
       "19998  0.475346  0.449986  0.425173  0.417910  0.536878      0.461059\n",
       "19999  0.398388  0.424605  0.722606  0.254769  0.508099      0.461693\n",
       "\n",
       "[20000 rows x 6 columns]"
      ]
     },
     "execution_count": 26,
     "metadata": {},
     "output_type": "execute_result"
    }
   ],
   "source": [
    "generate_samples_means(5)"
   ]
  },
  {
   "cell_type": "markdown",
   "id": "headed-christianity",
   "metadata": {},
   "source": [
    "## 2.2 Estimator"
   ]
  },
  {
   "cell_type": "code",
   "execution_count": 27,
   "id": "known-extension",
   "metadata": {},
   "outputs": [],
   "source": [
    "def estimate_mean_forQ2(n, delta):\n",
    "    sample = np.loadtxt(\"data.txt\",skiprows=3)\n",
    "    i = 0.0\n",
    "    count_groups = 0\n",
    "    bin_groups = []\n",
    "    bin_sum = {}\n",
    "    bin_count_dict = {}\n",
    "    \n",
    "    a = np.arange(sample.size)//n\n",
    "    b = np.bincount(np.arange(a.size)//n,sample)/np.bincount(np.arange(a.size)//n)\n",
    "    sampling_means = b.tolist()\n",
    "    \n",
    "    for samples in sample:\n",
    "        while i < 1.0 and count_groups < (1/delta):\n",
    "            bin_groups.append([i, round(i + delta, 10)])\n",
    "            i = round(i + delta, 5)\n",
    "            count_groups += 1\n",
    "            \n",
    "    for k in bin_groups:\n",
    "        bin_dict = { k[0] :[] for k in bin_groups }\n",
    "        bin_pmf_dict = { k[0] :[] for k in bin_groups }\n",
    "        \n",
    "        \n",
    "    mean_count = len(sampling_means)\n",
    "    \n",
    "    while mean_count > 0:\n",
    "        for p in bin_dict:\n",
    "            for means in sampling_means:\n",
    "                if means > p and means < p+delta:\n",
    "                    bin_dict.setdefault(p,[]).append(means)\n",
    "                    mean_count = mean_count -1\n",
    "\n",
    "    for p in bin_dict:\n",
    "        bin_pmf_dict[p] = len(bin_dict[p])/(100000/n)\n",
    "    for p in bin_dict:\n",
    "         bin_count_dict[p] = len(bin_dict[p])\n",
    "\n",
    "    mean_PMF = sum(k*v for k,v in bin_pmf_dict.items())\n",
    "    \n",
    "    return bin_count_dict, bin_pmf_dict, mean_PMF"
   ]
  },
  {
   "cell_type": "code",
   "execution_count": 28,
   "id": "fossil-journey",
   "metadata": {
    "scrolled": true
   },
   "outputs": [],
   "source": [
    "counting, PMF_with_bins , mean_PMF_samples = estimate_mean_forQ2(5, 0.1)"
   ]
  },
  {
   "cell_type": "code",
   "execution_count": 29,
   "id": "olive-louisiana",
   "metadata": {
    "scrolled": true
   },
   "outputs": [
    {
     "name": "stdout",
     "output_type": "stream",
     "text": [
      "{0.0: 0, 0.1: 0, 0.2: 0, 0.3: 267, 0.4: 9758, 0.5: 9701, 0.6: 274, 0.7: 0, 0.8: 0, 0.9: 0}\n"
     ]
    }
   ],
   "source": [
    "print(counting)"
   ]
  },
  {
   "cell_type": "code",
   "execution_count": 30,
   "id": "conditional-affair",
   "metadata": {
    "scrolled": true
   },
   "outputs": [
    {
     "name": "stdout",
     "output_type": "stream",
     "text": [
      "{0.0: 0.0, 0.1: 0.0, 0.2: 0.0, 0.3: 0.01335, 0.4: 0.4879, 0.5: 0.48505, 0.6: 0.0137, 0.7: 0.0, 0.8: 0.0, 0.9: 0.0}\n"
     ]
    }
   ],
   "source": [
    "print(PMF_with_bins)"
   ]
  },
  {
   "cell_type": "code",
   "execution_count": 31,
   "id": "public-purple",
   "metadata": {},
   "outputs": [
    {
     "name": "stdout",
     "output_type": "stream",
     "text": [
      "0.44991000000000003\n"
     ]
    }
   ],
   "source": [
    "print(mean_PMF_samples)"
   ]
  },
  {
   "cell_type": "code",
   "execution_count": 32,
   "id": "noble-unemployment",
   "metadata": {},
   "outputs": [
    {
     "name": "stdout",
     "output_type": "stream",
     "text": [
      "0.5003089333150084\n"
     ]
    }
   ],
   "source": [
    "Ture_mean = sum(data)/100000\n",
    "print(Ture_mean)"
   ]
  },
  {
   "cell_type": "markdown",
   "id": "prime-stanford",
   "metadata": {},
   "source": [
    "## 2.3 Implementation Requirement"
   ]
  },
  {
   "cell_type": "code",
   "execution_count": 33,
   "id": "correct-folks",
   "metadata": {},
   "outputs": [],
   "source": [
    "def estimate_mean(n, delta):\n",
    "    sample = np.loadtxt(\"data.txt\",skiprows=3)\n",
    "    i = 0.0\n",
    "    count_groups = 0\n",
    "    bin_groups = []\n",
    "    d3 = dict()\n",
    "    bin_sum = {}\n",
    "    \n",
    "    a = np.arange(sample.size)//n\n",
    "    b = np.bincount(np.arange(a.size)//n,sample)/np.bincount(np.arange(a.size)//n)\n",
    "    sampling_means = b.tolist()\n",
    "    \n",
    "    for samples in sample:\n",
    "        while i < 1.0 and count_groups < (1/delta):\n",
    "            bin_groups.append([i, round(i + delta, 10)])\n",
    "            i = round(i + delta, 5)\n",
    "            count_groups += 1\n",
    "            \n",
    "    for k in bin_groups:\n",
    "        bin_dict = { k[0] :[] for k in bin_groups }\n",
    "        bin_pmf_dict = { k[0] :[] for k in bin_groups }\n",
    "        \n",
    "        \n",
    "    mean_count = len(sampling_means)\n",
    "    \n",
    "    while mean_count > 0:\n",
    "        for p in bin_dict:\n",
    "            for means in sampling_means:\n",
    "                if means > p and means < p+delta:\n",
    "                    bin_dict.setdefault(p,[]).append(means)\n",
    "                    mean_count = mean_count -1\n",
    "\n",
    "    for p in bin_dict:\n",
    "        bin_pmf_dict[p] = len(bin_dict[p])/(100000/n)\n",
    "\n",
    "    mean_PMF = sum(k*v for k,v in bin_pmf_dict.items())\n",
    "    \n",
    "    return bin_pmf_dict, mean_PMF"
   ]
  },
  {
   "cell_type": "markdown",
   "id": "stopped-burlington",
   "metadata": {},
   "source": [
    "## 3 Plotting"
   ]
  },
  {
   "cell_type": "code",
   "execution_count": 34,
   "id": "immune-promotion",
   "metadata": {
    "scrolled": false
   },
   "outputs": [
    {
     "name": "stdout",
     "output_type": "stream",
     "text": [
      "{0.0: 0.0, 0.1: 0.0, 0.2: 0.0, 0.3: 0.0, 0.4: 0.496, 0.5: 0.504, 0.6: 0.0, 0.7: 0.0, 0.8: 0.0, 0.9: 0.0}\n",
      "0.4504\n"
     ]
    }
   ],
   "source": [
    "case1dict, case1pmf = estimate_mean(20, 0.1)\n",
    "print(case1dict)\n",
    "print(case1pmf)"
   ]
  },
  {
   "cell_type": "code",
   "execution_count": 35,
   "id": "dress-ordinary",
   "metadata": {
    "scrolled": false
   },
   "outputs": [
    {
     "data": {
      "image/png": "[encoded data removed]",
      "text/plain": [
       "<Figure size 432x288 with 1 Axes>"
      ]
     },
     "metadata": {
      "needs_background": "light"
     },
     "output_type": "display_data"
    }
   ],
   "source": [
    "plt.bar(case1dict.keys(), case1dict.values(), 0.1 ,color='g')\n",
    "plt.text(0.7, 0.7, 'E[X] = 0.4504', size=10, color='purple')\n",
    "plt.ylim(0,0.8)\n",
    "plt.ylabel ('probability')\n",
    "plt.xlabel ('sample mean')\n",
    "plt.xticks(list(case1dict.keys()))\n",
    "plt.savefig('1.png')"
   ]
  },
  {
   "cell_type": "code",
   "execution_count": 36,
   "id": "characteristic-judges",
   "metadata": {},
   "outputs": [
    {
     "name": "stdout",
     "output_type": "stream",
     "text": [
      "{0.0: 0.0, 0.1: 0.0, 0.2: 0.0, 0.3: 0.0, 0.4: 0.508, 0.5: 0.492, 0.6: 0.0, 0.7: 0.0, 0.8: 0.0, 0.9: 0.0}\n",
      "0.44920000000000004\n"
     ]
    }
   ],
   "source": [
    "case2dict, case2pmf = estimate_mean(100, 0.1)\n",
    "print(case2dict)\n",
    "print(case2pmf)"
   ]
  },
  {
   "cell_type": "code",
   "execution_count": 37,
   "id": "atomic-cross",
   "metadata": {},
   "outputs": [
    {
     "data": {
      "image/png": "[encoded data removed]",
      "text/plain": [
       "<Figure size 432x288 with 1 Axes>"
      ]
     },
     "metadata": {
      "needs_background": "light"
     },
     "output_type": "display_data"
    }
   ],
   "source": [
    "plt.bar(case2dict.keys(), case2dict.values(), 0.1 ,color='g')\n",
    "plt.text(0.7, 0.7, 'E[X] = 0.4492', size=10, color='purple')\n",
    "plt.ylim(0,0.8)\n",
    "plt.ylabel ('probability')\n",
    "plt.xlabel ('sample mean')\n",
    "plt.xticks(list(case2dict.keys()))\n",
    "plt.savefig('2.png')\n"
   ]
  },
  {
   "cell_type": "code",
   "execution_count": 38,
   "id": "right-position",
   "metadata": {},
   "outputs": [
    {
     "name": "stdout",
     "output_type": "stream",
     "text": [
      "{0.0: 0.0, 0.001: 0.0, 0.002: 0.0, 0.003: 0.0, 0.004: 0.0, 0.005: 0.0, 0.006: 0.0, 0.007: 0.0, 0.008: 0.0, 0.009: 0.0, 0.01: 0.0, 0.011: 0.0, 0.012: 0.0, 0.013: 0.0, 0.014: 0.0, 0.015: 0.0, 0.016: 0.0, 0.017: 0.0, 0.018: 0.0, 0.019: 0.0, 0.02: 0.0, 0.021: 0.0, 0.022: 0.0, 0.023: 0.0, 0.024: 0.0, 0.025: 0.0, 0.026: 0.0, 0.027: 0.0, 0.028: 0.0, 0.029: 0.0, 0.03: 0.0, 0.031: 0.0, 0.032: 0.0, 0.033: 0.0, 0.034: 0.0, 0.035: 0.0, 0.036: 0.0, 0.037: 0.0, 0.038: 0.0, 0.039: 0.0, 0.04: 0.0, 0.041: 0.0, 0.042: 0.0, 0.043: 0.0, 0.044: 0.0, 0.045: 0.0, 0.046: 0.0, 0.047: 0.0, 0.048: 0.0, 0.049: 0.0, 0.05: 0.0, 0.051: 0.0, 0.052: 0.0, 0.053: 0.0, 0.054: 0.0, 0.055: 0.0, 0.056: 0.0, 0.057: 0.0, 0.058: 0.0, 0.059: 0.0, 0.06: 0.0, 0.061: 0.0, 0.062: 0.0, 0.063: 0.0, 0.064: 0.0, 0.065: 0.0, 0.066: 0.0, 0.067: 0.0, 0.068: 0.0, 0.069: 0.0, 0.07: 0.0, 0.071: 0.0, 0.072: 0.0, 0.073: 0.0, 0.074: 0.0, 0.075: 0.0, 0.076: 0.0, 0.077: 0.0, 0.078: 0.0, 0.079: 0.0, 0.08: 0.0, 0.081: 0.0, 0.082: 0.0, 0.083: 0.0, 0.084: 0.0, 0.085: 0.0, 0.086: 0.0, 0.087: 0.0, 0.088: 0.0, 0.089: 0.0, 0.09: 0.0, 0.091: 0.0, 0.092: 0.0, 0.093: 0.0, 0.094: 0.0, 0.095: 0.0, 0.096: 0.0, 0.097: 0.0, 0.098: 0.0, 0.099: 0.0, 0.1: 0.0, 0.101: 0.0, 0.102: 0.0, 0.103: 0.0, 0.104: 0.0, 0.105: 0.0, 0.106: 0.0, 0.107: 0.0, 0.108: 0.0, 0.109: 0.0, 0.11: 0.0, 0.111: 0.0, 0.112: 0.0, 0.113: 0.0, 0.114: 0.0, 0.115: 0.0, 0.116: 0.0, 0.117: 0.0, 0.118: 0.0, 0.119: 0.0, 0.12: 0.0, 0.121: 0.0, 0.122: 0.0, 0.123: 0.0, 0.124: 0.0, 0.125: 0.0, 0.126: 0.0, 0.127: 0.0, 0.128: 0.0, 0.129: 0.0, 0.13: 0.0, 0.131: 0.0, 0.132: 0.0, 0.133: 0.0, 0.134: 0.0, 0.135: 0.0, 0.136: 0.0, 0.137: 0.0, 0.138: 0.0, 0.139: 0.0, 0.14: 0.0, 0.141: 0.0, 0.142: 0.0, 0.143: 0.0, 0.144: 0.0, 0.145: 0.0, 0.146: 0.0, 0.147: 0.0, 0.148: 0.0, 0.149: 0.0, 0.15: 0.0, 0.151: 0.0, 0.152: 0.0, 0.153: 0.0, 0.154: 0.0, 0.155: 0.0, 0.156: 0.0, 0.157: 0.0, 0.158: 0.0, 0.159: 0.0, 0.16: 0.0, 0.161: 0.0, 0.162: 0.0, 0.163: 0.0, 0.164: 0.0, 0.165: 0.0, 0.166: 0.0, 0.167: 0.0, 0.168: 0.0, 0.169: 0.0, 0.17: 0.0, 0.171: 0.0, 0.172: 0.0, 0.173: 0.0, 0.174: 0.0, 0.175: 0.0, 0.176: 0.0, 0.177: 0.0, 0.178: 0.0, 0.179: 0.0, 0.18: 0.0, 0.181: 0.0, 0.182: 0.0, 0.183: 0.0, 0.184: 0.0, 0.185: 0.0, 0.186: 0.0, 0.187: 0.0, 0.188: 0.0, 0.189: 0.0, 0.19: 0.0, 0.191: 0.0, 0.192: 0.0, 0.193: 0.0, 0.194: 0.0, 0.195: 0.0, 0.196: 0.0, 0.197: 0.0, 0.198: 0.0, 0.199: 0.0, 0.2: 0.0, 0.201: 0.0, 0.202: 0.0, 0.203: 0.0, 0.204: 0.0, 0.205: 0.0, 0.206: 0.0, 0.207: 0.0, 0.208: 0.0, 0.209: 0.0, 0.21: 0.0, 0.211: 0.0, 0.212: 0.0, 0.213: 0.0, 0.214: 0.0, 0.215: 0.0, 0.216: 0.0, 0.217: 0.0, 0.218: 0.0, 0.219: 0.0, 0.22: 0.0, 0.221: 0.0, 0.222: 0.0, 0.223: 0.0, 0.224: 0.0, 0.225: 0.0, 0.226: 0.0, 0.227: 0.0, 0.228: 0.0, 0.229: 0.0, 0.23: 0.0, 0.231: 0.0, 0.232: 0.0, 0.233: 0.0, 0.234: 0.0, 0.235: 0.0, 0.236: 0.0, 0.237: 0.0, 0.238: 0.0, 0.239: 0.0, 0.24: 0.0, 0.241: 0.0, 0.242: 0.0, 0.243: 0.0, 0.244: 0.0, 0.245: 0.0, 0.246: 0.0, 0.247: 0.0, 0.248: 0.0, 0.249: 0.0, 0.25: 0.0, 0.251: 0.0, 0.252: 0.0, 0.253: 0.0, 0.254: 0.0, 0.255: 0.0, 0.256: 0.0, 0.257: 0.0, 0.258: 0.0, 0.259: 0.0, 0.26: 0.0, 0.261: 0.0, 0.262: 0.0, 0.263: 0.0, 0.264: 0.0, 0.265: 0.0, 0.266: 0.0, 0.267: 0.0, 0.268: 0.0, 0.269: 0.0, 0.27: 0.0, 0.271: 0.0, 0.272: 0.0, 0.273: 0.0, 0.274: 0.0, 0.275: 0.0, 0.276: 0.0, 0.277: 0.0, 0.278: 0.0, 0.279: 0.0, 0.28: 0.0, 0.281: 0.0, 0.282: 0.0, 0.283: 0.0, 0.284: 0.0, 0.285: 0.0, 0.286: 0.0, 0.287: 0.0, 0.288: 0.0, 0.289: 0.0, 0.29: 0.0, 0.291: 0.0, 0.292: 0.0, 0.293: 0.0, 0.294: 0.0, 0.295: 0.0, 0.296: 0.0, 0.297: 0.0, 0.298: 0.0, 0.299: 0.0, 0.3: 0.0, 0.301: 0.0, 0.302: 0.0, 0.303: 0.0, 0.304: 0.0, 0.305: 0.0, 0.306: 0.0, 0.307: 0.0, 0.308: 0.0, 0.309: 0.0, 0.31: 0.0, 0.311: 0.0, 0.312: 0.0, 0.313: 0.0, 0.314: 0.0, 0.315: 0.0, 0.316: 0.0, 0.317: 0.0, 0.318: 0.0, 0.319: 0.0, 0.32: 0.0, 0.321: 0.0, 0.322: 0.0, 0.323: 0.0, 0.324: 0.0, 0.325: 0.0, 0.326: 0.0, 0.327: 0.0, 0.328: 0.0, 0.329: 0.0, 0.33: 0.0, 0.331: 0.0, 0.332: 0.0, 0.333: 0.0, 0.334: 0.0, 0.335: 0.0, 0.336: 0.0, 0.337: 0.0, 0.338: 0.0, 0.339: 0.0, 0.34: 0.0, 0.341: 0.0, 0.342: 0.0, 0.343: 0.0, 0.344: 0.0, 0.345: 0.0, 0.346: 0.0, 0.347: 0.0, 0.348: 0.0, 0.349: 0.0, 0.35: 0.0, 0.351: 0.0, 0.352: 0.0, 0.353: 0.0, 0.354: 0.0, 0.355: 0.0, 0.356: 0.0, 0.357: 0.0, 0.358: 0.0, 0.359: 0.0, 0.36: 0.0, 0.361: 0.0, 0.362: 0.0, 0.363: 0.0, 0.364: 0.0, 0.365: 0.0, 0.366: 0.0, 0.367: 0.0, 0.368: 0.0, 0.369: 0.0, 0.37: 0.0, 0.371: 0.0, 0.372: 0.0, 0.373: 0.0, 0.374: 0.0, 0.375: 0.0, 0.376: 0.0, 0.377: 0.0, 0.378: 0.0, 0.379: 0.0, 0.38: 0.0, 0.381: 0.0, 0.382: 0.0, 0.383: 0.0, 0.384: 0.0, 0.385: 0.0, 0.386: 0.0, 0.387: 0.0, 0.388: 0.0, 0.389: 0.0, 0.39: 0.0, 0.391: 0.0, 0.392: 0.0, 0.393: 0.0, 0.394: 0.0, 0.395: 0.0, 0.396: 0.0, 0.397: 0.0, 0.398: 0.0, 0.399: 0.0, 0.4: 0.0, 0.401: 0.0, 0.402: 0.0, 0.403: 0.0, 0.404: 0.0, 0.405: 0.0, 0.406: 0.0, 0.407: 0.0, 0.408: 0.0, 0.409: 0.0, 0.41: 0.0, 0.411: 0.0002, 0.412: 0.0, 0.413: 0.0, 0.414: 0.0, 0.415: 0.0, 0.416: 0.0, 0.417: 0.0, 0.418: 0.0, 0.419: 0.0, 0.42: 0.0, 0.421: 0.0, 0.422: 0.0, 0.423: 0.0002, 0.424: 0.0, 0.425: 0.0, 0.426: 0.0, 0.427: 0.0002, 0.428: 0.0, 0.429: 0.0, 0.43: 0.0002, 0.431: 0.0, 0.432: 0.0002, 0.433: 0.0, 0.434: 0.0004, 0.435: 0.0002, 0.436: 0.0, 0.437: 0.0004, 0.438: 0.0, 0.439: 0.0006, 0.44: 0.0016, 0.441: 0.0, 0.442: 0.0006, 0.443: 0.0006, 0.444: 0.0004, 0.445: 0.0008, 0.446: 0.0008, 0.447: 0.0008, 0.448: 0.0012, 0.449: 0.0006, 0.45: 0.0018, 0.451: 0.0018, 0.452: 0.0012, 0.453: 0.0024, 0.454: 0.0024, 0.455: 0.0026, 0.456: 0.0012, 0.457: 0.003, 0.458: 0.0046, 0.459: 0.0032, 0.46: 0.004, 0.461: 0.0046, 0.462: 0.005, 0.463: 0.0054, 0.464: 0.0044, 0.465: 0.0064, 0.466: 0.005, 0.467: 0.005, 0.468: 0.0064, 0.469: 0.0072, 0.47: 0.008, 0.471: 0.0082, 0.472: 0.0088, 0.473: 0.0072, 0.474: 0.0108, 0.475: 0.0092, 0.476: 0.0116, 0.477: 0.0112, 0.478: 0.0104, 0.479: 0.0136, 0.48: 0.012, 0.481: 0.0126, 0.482: 0.0124, 0.483: 0.012, 0.484: 0.0124, 0.485: 0.0178, 0.486: 0.0164, 0.487: 0.0112, 0.488: 0.0172, 0.489: 0.0168, 0.49: 0.0194, 0.491: 0.0152, 0.492: 0.0156, 0.493: 0.0146, 0.494: 0.0132, 0.495: 0.0208, 0.496: 0.0192, 0.497: 0.0148, 0.498: 0.02, 0.499: 0.0158, 0.5: 0.0172, 0.501: 0.0172, 0.502: 0.0178, 0.503: 0.0166, 0.504: 0.0184, 0.505: 0.0176, 0.506: 0.0176, 0.507: 0.0168, 0.508: 0.0168, 0.509: 0.0158, 0.51: 0.0146, 0.511: 0.0182, 0.512: 0.0148, 0.513: 0.0166, 0.514: 0.0114, 0.515: 0.0134, 0.516: 0.0126, 0.517: 0.0134, 0.518: 0.013, 0.519: 0.0114, 0.52: 0.0114, 0.521: 0.0118, 0.522: 0.0128, 0.523: 0.0098, 0.524: 0.0106, 0.525: 0.01, 0.526: 0.0104, 0.527: 0.0066, 0.528: 0.0086, 0.529: 0.0056, 0.53: 0.0072, 0.531: 0.0066, 0.532: 0.0064, 0.533: 0.0052, 0.534: 0.0072, 0.535: 0.005, 0.536: 0.0066, 0.537: 0.0038, 0.538: 0.0042, 0.539: 0.0044, 0.54: 0.0038, 0.541: 0.004, 0.542: 0.0036, 0.543: 0.0022, 0.544: 0.0012, 0.545: 0.0024, 0.546: 0.0032, 0.547: 0.0016, 0.548: 0.0014, 0.549: 0.0018, 0.55: 0.002, 0.551: 0.001, 0.552: 0.0006, 0.553: 0.0008, 0.554: 0.001, 0.555: 0.0008, 0.556: 0.0006, 0.557: 0.0006, 0.558: 0.0014, 0.559: 0.0002, 0.56: 0.0002, 0.561: 0.0004, 0.562: 0.0008, 0.563: 0.0004, 0.564: 0.0006, 0.565: 0.0002, 0.566: 0.0, 0.567: 0.0004, 0.568: 0.0002, 0.569: 0.0, 0.57: 0.0002, 0.571: 0.0, 0.572: 0.0, 0.573: 0.0002, 0.574: 0.0, 0.575: 0.0, 0.576: 0.0004, 0.577: 0.0, 0.578: 0.0, 0.579: 0.0002, 0.58: 0.0002, 0.581: 0.0, 0.582: 0.0, 0.583: 0.0, 0.584: 0.0, 0.585: 0.0, 0.586: 0.0, 0.587: 0.0, 0.588: 0.0, 0.589: 0.0, 0.59: 0.0, 0.591: 0.0, 0.592: 0.0, 0.593: 0.0, 0.594: 0.0, 0.595: 0.0, 0.596: 0.0, 0.597: 0.0, 0.598: 0.0, 0.599: 0.0, 0.6: 0.0, 0.601: 0.0, 0.602: 0.0, 0.603: 0.0, 0.604: 0.0, 0.605: 0.0, 0.606: 0.0, 0.607: 0.0, 0.608: 0.0, 0.609: 0.0, 0.61: 0.0, 0.611: 0.0, 0.612: 0.0, 0.613: 0.0, 0.614: 0.0, 0.615: 0.0, 0.616: 0.0, 0.617: 0.0, 0.618: 0.0, 0.619: 0.0, 0.62: 0.0, 0.621: 0.0, 0.622: 0.0, 0.623: 0.0, 0.624: 0.0, 0.625: 0.0, 0.626: 0.0, 0.627: 0.0, 0.628: 0.0, 0.629: 0.0, 0.63: 0.0, 0.631: 0.0, 0.632: 0.0, 0.633: 0.0, 0.634: 0.0, 0.635: 0.0, 0.636: 0.0, 0.637: 0.0, 0.638: 0.0, 0.639: 0.0, 0.64: 0.0, 0.641: 0.0, 0.642: 0.0, 0.643: 0.0, 0.644: 0.0, 0.645: 0.0, 0.646: 0.0, 0.647: 0.0, 0.648: 0.0, 0.649: 0.0, 0.65: 0.0, 0.651: 0.0, 0.652: 0.0, 0.653: 0.0, 0.654: 0.0, 0.655: 0.0, 0.656: 0.0, 0.657: 0.0, 0.658: 0.0, 0.659: 0.0, 0.66: 0.0, 0.661: 0.0, 0.662: 0.0, 0.663: 0.0, 0.664: 0.0, 0.665: 0.0, 0.666: 0.0, 0.667: 0.0, 0.668: 0.0, 0.669: 0.0, 0.67: 0.0, 0.671: 0.0, 0.672: 0.0, 0.673: 0.0, 0.674: 0.0, 0.675: 0.0, 0.676: 0.0, 0.677: 0.0, 0.678: 0.0, 0.679: 0.0, 0.68: 0.0, 0.681: 0.0, 0.682: 0.0, 0.683: 0.0, 0.684: 0.0, 0.685: 0.0, 0.686: 0.0, 0.687: 0.0, 0.688: 0.0, 0.689: 0.0, 0.69: 0.0, 0.691: 0.0, 0.692: 0.0, 0.693: 0.0, 0.694: 0.0, 0.695: 0.0, 0.696: 0.0, 0.697: 0.0, 0.698: 0.0, 0.699: 0.0, 0.7: 0.0, 0.701: 0.0, 0.702: 0.0, 0.703: 0.0, 0.704: 0.0, 0.705: 0.0, 0.706: 0.0, 0.707: 0.0, 0.708: 0.0, 0.709: 0.0, 0.71: 0.0, 0.711: 0.0, 0.712: 0.0, 0.713: 0.0, 0.714: 0.0, 0.715: 0.0, 0.716: 0.0, 0.717: 0.0, 0.718: 0.0, 0.719: 0.0, 0.72: 0.0, 0.721: 0.0, 0.722: 0.0, 0.723: 0.0, 0.724: 0.0, 0.725: 0.0, 0.726: 0.0, 0.727: 0.0, 0.728: 0.0, 0.729: 0.0, 0.73: 0.0, 0.731: 0.0, 0.732: 0.0, 0.733: 0.0, 0.734: 0.0, 0.735: 0.0, 0.736: 0.0, 0.737: 0.0, 0.738: 0.0, 0.739: 0.0, 0.74: 0.0, 0.741: 0.0, 0.742: 0.0, 0.743: 0.0, 0.744: 0.0, 0.745: 0.0, 0.746: 0.0, 0.747: 0.0, 0.748: 0.0, 0.749: 0.0, 0.75: 0.0, 0.751: 0.0, 0.752: 0.0, 0.753: 0.0, 0.754: 0.0, 0.755: 0.0, 0.756: 0.0, 0.757: 0.0, 0.758: 0.0, 0.759: 0.0, 0.76: 0.0, 0.761: 0.0, 0.762: 0.0, 0.763: 0.0, 0.764: 0.0, 0.765: 0.0, 0.766: 0.0, 0.767: 0.0, 0.768: 0.0, 0.769: 0.0, 0.77: 0.0, 0.771: 0.0, 0.772: 0.0, 0.773: 0.0, 0.774: 0.0, 0.775: 0.0, 0.776: 0.0, 0.777: 0.0, 0.778: 0.0, 0.779: 0.0, 0.78: 0.0, 0.781: 0.0, 0.782: 0.0, 0.783: 0.0, 0.784: 0.0, 0.785: 0.0, 0.786: 0.0, 0.787: 0.0, 0.788: 0.0, 0.789: 0.0, 0.79: 0.0, 0.791: 0.0, 0.792: 0.0, 0.793: 0.0, 0.794: 0.0, 0.795: 0.0, 0.796: 0.0, 0.797: 0.0, 0.798: 0.0, 0.799: 0.0, 0.8: 0.0, 0.801: 0.0, 0.802: 0.0, 0.803: 0.0, 0.804: 0.0, 0.805: 0.0, 0.806: 0.0, 0.807: 0.0, 0.808: 0.0, 0.809: 0.0, 0.81: 0.0, 0.811: 0.0, 0.812: 0.0, 0.813: 0.0, 0.814: 0.0, 0.815: 0.0, 0.816: 0.0, 0.817: 0.0, 0.818: 0.0, 0.819: 0.0, 0.82: 0.0, 0.821: 0.0, 0.822: 0.0, 0.823: 0.0, 0.824: 0.0, 0.825: 0.0, 0.826: 0.0, 0.827: 0.0, 0.828: 0.0, 0.829: 0.0, 0.83: 0.0, 0.831: 0.0, 0.832: 0.0, 0.833: 0.0, 0.834: 0.0, 0.835: 0.0, 0.836: 0.0, 0.837: 0.0, 0.838: 0.0, 0.839: 0.0, 0.84: 0.0, 0.841: 0.0, 0.842: 0.0, 0.843: 0.0, 0.844: 0.0, 0.845: 0.0, 0.846: 0.0, 0.847: 0.0, 0.848: 0.0, 0.849: 0.0, 0.85: 0.0, 0.851: 0.0, 0.852: 0.0, 0.853: 0.0, 0.854: 0.0, 0.855: 0.0, 0.856: 0.0, 0.857: 0.0, 0.858: 0.0, 0.859: 0.0, 0.86: 0.0, 0.861: 0.0, 0.862: 0.0, 0.863: 0.0, 0.864: 0.0, 0.865: 0.0, 0.866: 0.0, 0.867: 0.0, 0.868: 0.0, 0.869: 0.0, 0.87: 0.0, 0.871: 0.0, 0.872: 0.0, 0.873: 0.0, 0.874: 0.0, 0.875: 0.0, 0.876: 0.0, 0.877: 0.0, 0.878: 0.0, 0.879: 0.0, 0.88: 0.0, 0.881: 0.0, 0.882: 0.0, 0.883: 0.0, 0.884: 0.0, 0.885: 0.0, 0.886: 0.0, 0.887: 0.0, 0.888: 0.0, 0.889: 0.0, 0.89: 0.0, 0.891: 0.0, 0.892: 0.0, 0.893: 0.0, 0.894: 0.0, 0.895: 0.0, 0.896: 0.0, 0.897: 0.0, 0.898: 0.0, 0.899: 0.0, 0.9: 0.0, 0.901: 0.0, 0.902: 0.0, 0.903: 0.0, 0.904: 0.0, 0.905: 0.0, 0.906: 0.0, 0.907: 0.0, 0.908: 0.0, 0.909: 0.0, 0.91: 0.0, 0.911: 0.0, 0.912: 0.0, 0.913: 0.0, 0.914: 0.0, 0.915: 0.0, 0.916: 0.0, 0.917: 0.0, 0.918: 0.0, 0.919: 0.0, 0.92: 0.0, 0.921: 0.0, 0.922: 0.0, 0.923: 0.0, 0.924: 0.0, 0.925: 0.0, 0.926: 0.0, 0.927: 0.0, 0.928: 0.0, 0.929: 0.0, 0.93: 0.0, 0.931: 0.0, 0.932: 0.0, 0.933: 0.0, 0.934: 0.0, 0.935: 0.0, 0.936: 0.0, 0.937: 0.0, 0.938: 0.0, 0.939: 0.0, 0.94: 0.0, 0.941: 0.0, 0.942: 0.0, 0.943: 0.0, 0.944: 0.0, 0.945: 0.0, 0.946: 0.0, 0.947: 0.0, 0.948: 0.0, 0.949: 0.0, 0.95: 0.0, 0.951: 0.0, 0.952: 0.0, 0.953: 0.0, 0.954: 0.0, 0.955: 0.0, 0.956: 0.0, 0.957: 0.0, 0.958: 0.0, 0.959: 0.0, 0.96: 0.0, 0.961: 0.0, 0.962: 0.0, 0.963: 0.0, 0.964: 0.0, 0.965: 0.0, 0.966: 0.0, 0.967: 0.0, 0.968: 0.0, 0.969: 0.0, 0.97: 0.0, 0.971: 0.0, 0.972: 0.0, 0.973: 0.0, 0.974: 0.0, 0.975: 0.0, 0.976: 0.0, 0.977: 0.0, 0.978: 0.0, 0.979: 0.0, 0.98: 0.0, 0.981: 0.0, 0.982: 0.0, 0.983: 0.0, 0.984: 0.0, 0.985: 0.0, 0.986: 0.0, 0.987: 0.0, 0.988: 0.0, 0.989: 0.0, 0.99: 0.0, 0.991: 0.0, 0.992: 0.0, 0.993: 0.0, 0.994: 0.0, 0.995: 0.0, 0.996: 0.0, 0.997: 0.0, 0.998: 0.0, 0.999: 0.0}\n",
      "0.49980739999999985\n"
     ]
    }
   ],
   "source": [
    "case3dict, case3pmf = estimate_mean(20, 0.001)\n",
    "print(case3dict)\n",
    "print(case3pmf)"
   ]
  },
  {
   "cell_type": "code",
   "execution_count": 39,
   "id": "solid-bride",
   "metadata": {},
   "outputs": [
    {
     "data": {
      "image/png": "[encoded data removed]",
      "text/plain": [
       "<Figure size 432x288 with 1 Axes>"
      ]
     },
     "metadata": {
      "needs_background": "light"
     },
     "output_type": "display_data"
    }
   ],
   "source": [
    "plt.bar(case3dict.keys(), case3dict.values(), 0.1 ,color='g')\n",
    "plt.text(0.7, 0.05, 'E[X] = 0.499807', size=10, color='purple')\n",
    "plt.ylim(0,0.06)\n",
    "plt.ylabel ('probability')\n",
    "plt.xlabel ('sample mean')\n",
    "plt.savefig('3.png')"
   ]
  },
  {
   "cell_type": "code",
   "execution_count": 40,
   "id": "enclosed-cameroon",
   "metadata": {},
   "outputs": [
    {
     "name": "stdout",
     "output_type": "stream",
     "text": [
      "{0.0: 0.0, 0.001: 0.0, 0.002: 0.0, 0.003: 0.0, 0.004: 0.0, 0.005: 0.0, 0.006: 0.0, 0.007: 0.0, 0.008: 0.0, 0.009: 0.0, 0.01: 0.0, 0.011: 0.0, 0.012: 0.0, 0.013: 0.0, 0.014: 0.0, 0.015: 0.0, 0.016: 0.0, 0.017: 0.0, 0.018: 0.0, 0.019: 0.0, 0.02: 0.0, 0.021: 0.0, 0.022: 0.0, 0.023: 0.0, 0.024: 0.0, 0.025: 0.0, 0.026: 0.0, 0.027: 0.0, 0.028: 0.0, 0.029: 0.0, 0.03: 0.0, 0.031: 0.0, 0.032: 0.0, 0.033: 0.0, 0.034: 0.0, 0.035: 0.0, 0.036: 0.0, 0.037: 0.0, 0.038: 0.0, 0.039: 0.0, 0.04: 0.0, 0.041: 0.0, 0.042: 0.0, 0.043: 0.0, 0.044: 0.0, 0.045: 0.0, 0.046: 0.0, 0.047: 0.0, 0.048: 0.0, 0.049: 0.0, 0.05: 0.0, 0.051: 0.0, 0.052: 0.0, 0.053: 0.0, 0.054: 0.0, 0.055: 0.0, 0.056: 0.0, 0.057: 0.0, 0.058: 0.0, 0.059: 0.0, 0.06: 0.0, 0.061: 0.0, 0.062: 0.0, 0.063: 0.0, 0.064: 0.0, 0.065: 0.0, 0.066: 0.0, 0.067: 0.0, 0.068: 0.0, 0.069: 0.0, 0.07: 0.0, 0.071: 0.0, 0.072: 0.0, 0.073: 0.0, 0.074: 0.0, 0.075: 0.0, 0.076: 0.0, 0.077: 0.0, 0.078: 0.0, 0.079: 0.0, 0.08: 0.0, 0.081: 0.0, 0.082: 0.0, 0.083: 0.0, 0.084: 0.0, 0.085: 0.0, 0.086: 0.0, 0.087: 0.0, 0.088: 0.0, 0.089: 0.0, 0.09: 0.0, 0.091: 0.0, 0.092: 0.0, 0.093: 0.0, 0.094: 0.0, 0.095: 0.0, 0.096: 0.0, 0.097: 0.0, 0.098: 0.0, 0.099: 0.0, 0.1: 0.0, 0.101: 0.0, 0.102: 0.0, 0.103: 0.0, 0.104: 0.0, 0.105: 0.0, 0.106: 0.0, 0.107: 0.0, 0.108: 0.0, 0.109: 0.0, 0.11: 0.0, 0.111: 0.0, 0.112: 0.0, 0.113: 0.0, 0.114: 0.0, 0.115: 0.0, 0.116: 0.0, 0.117: 0.0, 0.118: 0.0, 0.119: 0.0, 0.12: 0.0, 0.121: 0.0, 0.122: 0.0, 0.123: 0.0, 0.124: 0.0, 0.125: 0.0, 0.126: 0.0, 0.127: 0.0, 0.128: 0.0, 0.129: 0.0, 0.13: 0.0, 0.131: 0.0, 0.132: 0.0, 0.133: 0.0, 0.134: 0.0, 0.135: 0.0, 0.136: 0.0, 0.137: 0.0, 0.138: 0.0, 0.139: 0.0, 0.14: 0.0, 0.141: 0.0, 0.142: 0.0, 0.143: 0.0, 0.144: 0.0, 0.145: 0.0, 0.146: 0.0, 0.147: 0.0, 0.148: 0.0, 0.149: 0.0, 0.15: 0.0, 0.151: 0.0, 0.152: 0.0, 0.153: 0.0, 0.154: 0.0, 0.155: 0.0, 0.156: 0.0, 0.157: 0.0, 0.158: 0.0, 0.159: 0.0, 0.16: 0.0, 0.161: 0.0, 0.162: 0.0, 0.163: 0.0, 0.164: 0.0, 0.165: 0.0, 0.166: 0.0, 0.167: 0.0, 0.168: 0.0, 0.169: 0.0, 0.17: 0.0, 0.171: 0.0, 0.172: 0.0, 0.173: 0.0, 0.174: 0.0, 0.175: 0.0, 0.176: 0.0, 0.177: 0.0, 0.178: 0.0, 0.179: 0.0, 0.18: 0.0, 0.181: 0.0, 0.182: 0.0, 0.183: 0.0, 0.184: 0.0, 0.185: 0.0, 0.186: 0.0, 0.187: 0.0, 0.188: 0.0, 0.189: 0.0, 0.19: 0.0, 0.191: 0.0, 0.192: 0.0, 0.193: 0.0, 0.194: 0.0, 0.195: 0.0, 0.196: 0.0, 0.197: 0.0, 0.198: 0.0, 0.199: 0.0, 0.2: 0.0, 0.201: 0.0, 0.202: 0.0, 0.203: 0.0, 0.204: 0.0, 0.205: 0.0, 0.206: 0.0, 0.207: 0.0, 0.208: 0.0, 0.209: 0.0, 0.21: 0.0, 0.211: 0.0, 0.212: 0.0, 0.213: 0.0, 0.214: 0.0, 0.215: 0.0, 0.216: 0.0, 0.217: 0.0, 0.218: 0.0, 0.219: 0.0, 0.22: 0.0, 0.221: 0.0, 0.222: 0.0, 0.223: 0.0, 0.224: 0.0, 0.225: 0.0, 0.226: 0.0, 0.227: 0.0, 0.228: 0.0, 0.229: 0.0, 0.23: 0.0, 0.231: 0.0, 0.232: 0.0, 0.233: 0.0, 0.234: 0.0, 0.235: 0.0, 0.236: 0.0, 0.237: 0.0, 0.238: 0.0, 0.239: 0.0, 0.24: 0.0, 0.241: 0.0, 0.242: 0.0, 0.243: 0.0, 0.244: 0.0, 0.245: 0.0, 0.246: 0.0, 0.247: 0.0, 0.248: 0.0, 0.249: 0.0, 0.25: 0.0, 0.251: 0.0, 0.252: 0.0, 0.253: 0.0, 0.254: 0.0, 0.255: 0.0, 0.256: 0.0, 0.257: 0.0, 0.258: 0.0, 0.259: 0.0, 0.26: 0.0, 0.261: 0.0, 0.262: 0.0, 0.263: 0.0, 0.264: 0.0, 0.265: 0.0, 0.266: 0.0, 0.267: 0.0, 0.268: 0.0, 0.269: 0.0, 0.27: 0.0, 0.271: 0.0, 0.272: 0.0, 0.273: 0.0, 0.274: 0.0, 0.275: 0.0, 0.276: 0.0, 0.277: 0.0, 0.278: 0.0, 0.279: 0.0, 0.28: 0.0, 0.281: 0.0, 0.282: 0.0, 0.283: 0.0, 0.284: 0.0, 0.285: 0.0, 0.286: 0.0, 0.287: 0.0, 0.288: 0.0, 0.289: 0.0, 0.29: 0.0, 0.291: 0.0, 0.292: 0.0, 0.293: 0.0, 0.294: 0.0, 0.295: 0.0, 0.296: 0.0, 0.297: 0.0, 0.298: 0.0, 0.299: 0.0, 0.3: 0.0, 0.301: 0.0, 0.302: 0.0, 0.303: 0.0, 0.304: 0.0, 0.305: 0.0, 0.306: 0.0, 0.307: 0.0, 0.308: 0.0, 0.309: 0.0, 0.31: 0.0, 0.311: 0.0, 0.312: 0.0, 0.313: 0.0, 0.314: 0.0, 0.315: 0.0, 0.316: 0.0, 0.317: 0.0, 0.318: 0.0, 0.319: 0.0, 0.32: 0.0, 0.321: 0.0, 0.322: 0.0, 0.323: 0.0, 0.324: 0.0, 0.325: 0.0, 0.326: 0.0, 0.327: 0.0, 0.328: 0.0, 0.329: 0.0, 0.33: 0.0, 0.331: 0.0, 0.332: 0.0, 0.333: 0.0, 0.334: 0.0, 0.335: 0.0, 0.336: 0.0, 0.337: 0.0, 0.338: 0.0, 0.339: 0.0, 0.34: 0.0, 0.341: 0.0, 0.342: 0.0, 0.343: 0.0, 0.344: 0.0, 0.345: 0.0, 0.346: 0.0, 0.347: 0.0, 0.348: 0.0, 0.349: 0.0, 0.35: 0.0, 0.351: 0.0, 0.352: 0.0, 0.353: 0.0, 0.354: 0.0, 0.355: 0.0, 0.356: 0.0, 0.357: 0.0, 0.358: 0.0, 0.359: 0.0, 0.36: 0.0, 0.361: 0.0, 0.362: 0.0, 0.363: 0.0, 0.364: 0.0, 0.365: 0.0, 0.366: 0.0, 0.367: 0.0, 0.368: 0.0, 0.369: 0.0, 0.37: 0.0, 0.371: 0.0, 0.372: 0.0, 0.373: 0.0, 0.374: 0.0, 0.375: 0.0, 0.376: 0.0, 0.377: 0.0, 0.378: 0.0, 0.379: 0.0, 0.38: 0.0, 0.381: 0.0, 0.382: 0.0, 0.383: 0.0, 0.384: 0.0, 0.385: 0.0, 0.386: 0.0, 0.387: 0.0, 0.388: 0.0, 0.389: 0.0, 0.39: 0.0, 0.391: 0.0, 0.392: 0.0, 0.393: 0.0, 0.394: 0.0, 0.395: 0.0, 0.396: 0.0, 0.397: 0.0, 0.398: 0.0, 0.399: 0.0, 0.4: 0.0, 0.401: 0.0, 0.402: 0.0, 0.403: 0.0, 0.404: 0.0, 0.405: 0.0, 0.406: 0.0, 0.407: 0.0, 0.408: 0.0, 0.409: 0.0, 0.41: 0.0, 0.411: 0.0, 0.412: 0.0, 0.413: 0.0, 0.414: 0.0, 0.415: 0.0, 0.416: 0.0, 0.417: 0.0, 0.418: 0.0, 0.419: 0.0, 0.42: 0.0, 0.421: 0.0, 0.422: 0.0, 0.423: 0.0, 0.424: 0.0, 0.425: 0.0, 0.426: 0.0, 0.427: 0.0, 0.428: 0.0, 0.429: 0.0, 0.43: 0.0, 0.431: 0.0, 0.432: 0.0, 0.433: 0.0, 0.434: 0.0, 0.435: 0.0, 0.436: 0.0, 0.437: 0.0, 0.438: 0.0, 0.439: 0.0, 0.44: 0.0, 0.441: 0.0, 0.442: 0.0, 0.443: 0.0, 0.444: 0.0, 0.445: 0.0, 0.446: 0.0, 0.447: 0.0, 0.448: 0.0, 0.449: 0.0, 0.45: 0.0, 0.451: 0.0, 0.452: 0.0, 0.453: 0.0, 0.454: 0.0, 0.455: 0.0, 0.456: 0.0, 0.457: 0.0, 0.458: 0.0, 0.459: 0.0, 0.46: 0.0, 0.461: 0.0, 0.462: 0.0, 0.463: 0.0, 0.464: 0.0, 0.465: 0.0, 0.466: 0.0, 0.467: 0.0, 0.468: 0.0, 0.469: 0.0, 0.47: 0.0, 0.471: 0.0, 0.472: 0.004, 0.473: 0.001, 0.474: 0.0, 0.475: 0.003, 0.476: 0.001, 0.477: 0.003, 0.478: 0.004, 0.479: 0.004, 0.48: 0.0, 0.481: 0.008, 0.482: 0.01, 0.483: 0.006, 0.484: 0.007, 0.485: 0.011, 0.486: 0.026, 0.487: 0.016, 0.488: 0.023, 0.489: 0.021, 0.49: 0.021, 0.491: 0.025, 0.492: 0.033, 0.493: 0.036, 0.494: 0.044, 0.495: 0.034, 0.496: 0.026, 0.497: 0.043, 0.498: 0.052, 0.499: 0.046, 0.5: 0.041, 0.501: 0.036, 0.502: 0.044, 0.503: 0.031, 0.504: 0.033, 0.505: 0.031, 0.506: 0.02, 0.507: 0.027, 0.508: 0.027, 0.509: 0.031, 0.51: 0.023, 0.511: 0.024, 0.512: 0.019, 0.513: 0.019, 0.514: 0.017, 0.515: 0.012, 0.516: 0.013, 0.517: 0.006, 0.518: 0.01, 0.519: 0.007, 0.52: 0.002, 0.521: 0.004, 0.522: 0.004, 0.523: 0.001, 0.524: 0.001, 0.525: 0.001, 0.526: 0.001, 0.527: 0.002, 0.528: 0.001, 0.529: 0.001, 0.53: 0.0, 0.531: 0.0, 0.532: 0.0, 0.533: 0.002, 0.534: 0.0, 0.535: 0.0, 0.536: 0.0, 0.537: 0.0, 0.538: 0.001, 0.539: 0.0, 0.54: 0.0, 0.541: 0.0, 0.542: 0.0, 0.543: 0.0, 0.544: 0.0, 0.545: 0.0, 0.546: 0.0, 0.547: 0.0, 0.548: 0.0, 0.549: 0.0, 0.55: 0.0, 0.551: 0.0, 0.552: 0.0, 0.553: 0.0, 0.554: 0.0, 0.555: 0.0, 0.556: 0.0, 0.557: 0.0, 0.558: 0.0, 0.559: 0.0, 0.56: 0.0, 0.561: 0.0, 0.562: 0.0, 0.563: 0.0, 0.564: 0.0, 0.565: 0.0, 0.566: 0.0, 0.567: 0.0, 0.568: 0.0, 0.569: 0.0, 0.57: 0.0, 0.571: 0.0, 0.572: 0.0, 0.573: 0.0, 0.574: 0.0, 0.575: 0.0, 0.576: 0.0, 0.577: 0.0, 0.578: 0.0, 0.579: 0.0, 0.58: 0.0, 0.581: 0.0, 0.582: 0.0, 0.583: 0.0, 0.584: 0.0, 0.585: 0.0, 0.586: 0.0, 0.587: 0.0, 0.588: 0.0, 0.589: 0.0, 0.59: 0.0, 0.591: 0.0, 0.592: 0.0, 0.593: 0.0, 0.594: 0.0, 0.595: 0.0, 0.596: 0.0, 0.597: 0.0, 0.598: 0.0, 0.599: 0.0, 0.6: 0.0, 0.601: 0.0, 0.602: 0.0, 0.603: 0.0, 0.604: 0.0, 0.605: 0.0, 0.606: 0.0, 0.607: 0.0, 0.608: 0.0, 0.609: 0.0, 0.61: 0.0, 0.611: 0.0, 0.612: 0.0, 0.613: 0.0, 0.614: 0.0, 0.615: 0.0, 0.616: 0.0, 0.617: 0.0, 0.618: 0.0, 0.619: 0.0, 0.62: 0.0, 0.621: 0.0, 0.622: 0.0, 0.623: 0.0, 0.624: 0.0, 0.625: 0.0, 0.626: 0.0, 0.627: 0.0, 0.628: 0.0, 0.629: 0.0, 0.63: 0.0, 0.631: 0.0, 0.632: 0.0, 0.633: 0.0, 0.634: 0.0, 0.635: 0.0, 0.636: 0.0, 0.637: 0.0, 0.638: 0.0, 0.639: 0.0, 0.64: 0.0, 0.641: 0.0, 0.642: 0.0, 0.643: 0.0, 0.644: 0.0, 0.645: 0.0, 0.646: 0.0, 0.647: 0.0, 0.648: 0.0, 0.649: 0.0, 0.65: 0.0, 0.651: 0.0, 0.652: 0.0, 0.653: 0.0, 0.654: 0.0, 0.655: 0.0, 0.656: 0.0, 0.657: 0.0, 0.658: 0.0, 0.659: 0.0, 0.66: 0.0, 0.661: 0.0, 0.662: 0.0, 0.663: 0.0, 0.664: 0.0, 0.665: 0.0, 0.666: 0.0, 0.667: 0.0, 0.668: 0.0, 0.669: 0.0, 0.67: 0.0, 0.671: 0.0, 0.672: 0.0, 0.673: 0.0, 0.674: 0.0, 0.675: 0.0, 0.676: 0.0, 0.677: 0.0, 0.678: 0.0, 0.679: 0.0, 0.68: 0.0, 0.681: 0.0, 0.682: 0.0, 0.683: 0.0, 0.684: 0.0, 0.685: 0.0, 0.686: 0.0, 0.687: 0.0, 0.688: 0.0, 0.689: 0.0, 0.69: 0.0, 0.691: 0.0, 0.692: 0.0, 0.693: 0.0, 0.694: 0.0, 0.695: 0.0, 0.696: 0.0, 0.697: 0.0, 0.698: 0.0, 0.699: 0.0, 0.7: 0.0, 0.701: 0.0, 0.702: 0.0, 0.703: 0.0, 0.704: 0.0, 0.705: 0.0, 0.706: 0.0, 0.707: 0.0, 0.708: 0.0, 0.709: 0.0, 0.71: 0.0, 0.711: 0.0, 0.712: 0.0, 0.713: 0.0, 0.714: 0.0, 0.715: 0.0, 0.716: 0.0, 0.717: 0.0, 0.718: 0.0, 0.719: 0.0, 0.72: 0.0, 0.721: 0.0, 0.722: 0.0, 0.723: 0.0, 0.724: 0.0, 0.725: 0.0, 0.726: 0.0, 0.727: 0.0, 0.728: 0.0, 0.729: 0.0, 0.73: 0.0, 0.731: 0.0, 0.732: 0.0, 0.733: 0.0, 0.734: 0.0, 0.735: 0.0, 0.736: 0.0, 0.737: 0.0, 0.738: 0.0, 0.739: 0.0, 0.74: 0.0, 0.741: 0.0, 0.742: 0.0, 0.743: 0.0, 0.744: 0.0, 0.745: 0.0, 0.746: 0.0, 0.747: 0.0, 0.748: 0.0, 0.749: 0.0, 0.75: 0.0, 0.751: 0.0, 0.752: 0.0, 0.753: 0.0, 0.754: 0.0, 0.755: 0.0, 0.756: 0.0, 0.757: 0.0, 0.758: 0.0, 0.759: 0.0, 0.76: 0.0, 0.761: 0.0, 0.762: 0.0, 0.763: 0.0, 0.764: 0.0, 0.765: 0.0, 0.766: 0.0, 0.767: 0.0, 0.768: 0.0, 0.769: 0.0, 0.77: 0.0, 0.771: 0.0, 0.772: 0.0, 0.773: 0.0, 0.774: 0.0, 0.775: 0.0, 0.776: 0.0, 0.777: 0.0, 0.778: 0.0, 0.779: 0.0, 0.78: 0.0, 0.781: 0.0, 0.782: 0.0, 0.783: 0.0, 0.784: 0.0, 0.785: 0.0, 0.786: 0.0, 0.787: 0.0, 0.788: 0.0, 0.789: 0.0, 0.79: 0.0, 0.791: 0.0, 0.792: 0.0, 0.793: 0.0, 0.794: 0.0, 0.795: 0.0, 0.796: 0.0, 0.797: 0.0, 0.798: 0.0, 0.799: 0.0, 0.8: 0.0, 0.801: 0.0, 0.802: 0.0, 0.803: 0.0, 0.804: 0.0, 0.805: 0.0, 0.806: 0.0, 0.807: 0.0, 0.808: 0.0, 0.809: 0.0, 0.81: 0.0, 0.811: 0.0, 0.812: 0.0, 0.813: 0.0, 0.814: 0.0, 0.815: 0.0, 0.816: 0.0, 0.817: 0.0, 0.818: 0.0, 0.819: 0.0, 0.82: 0.0, 0.821: 0.0, 0.822: 0.0, 0.823: 0.0, 0.824: 0.0, 0.825: 0.0, 0.826: 0.0, 0.827: 0.0, 0.828: 0.0, 0.829: 0.0, 0.83: 0.0, 0.831: 0.0, 0.832: 0.0, 0.833: 0.0, 0.834: 0.0, 0.835: 0.0, 0.836: 0.0, 0.837: 0.0, 0.838: 0.0, 0.839: 0.0, 0.84: 0.0, 0.841: 0.0, 0.842: 0.0, 0.843: 0.0, 0.844: 0.0, 0.845: 0.0, 0.846: 0.0, 0.847: 0.0, 0.848: 0.0, 0.849: 0.0, 0.85: 0.0, 0.851: 0.0, 0.852: 0.0, 0.853: 0.0, 0.854: 0.0, 0.855: 0.0, 0.856: 0.0, 0.857: 0.0, 0.858: 0.0, 0.859: 0.0, 0.86: 0.0, 0.861: 0.0, 0.862: 0.0, 0.863: 0.0, 0.864: 0.0, 0.865: 0.0, 0.866: 0.0, 0.867: 0.0, 0.868: 0.0, 0.869: 0.0, 0.87: 0.0, 0.871: 0.0, 0.872: 0.0, 0.873: 0.0, 0.874: 0.0, 0.875: 0.0, 0.876: 0.0, 0.877: 0.0, 0.878: 0.0, 0.879: 0.0, 0.88: 0.0, 0.881: 0.0, 0.882: 0.0, 0.883: 0.0, 0.884: 0.0, 0.885: 0.0, 0.886: 0.0, 0.887: 0.0, 0.888: 0.0, 0.889: 0.0, 0.89: 0.0, 0.891: 0.0, 0.892: 0.0, 0.893: 0.0, 0.894: 0.0, 0.895: 0.0, 0.896: 0.0, 0.897: 0.0, 0.898: 0.0, 0.899: 0.0, 0.9: 0.0, 0.901: 0.0, 0.902: 0.0, 0.903: 0.0, 0.904: 0.0, 0.905: 0.0, 0.906: 0.0, 0.907: 0.0, 0.908: 0.0, 0.909: 0.0, 0.91: 0.0, 0.911: 0.0, 0.912: 0.0, 0.913: 0.0, 0.914: 0.0, 0.915: 0.0, 0.916: 0.0, 0.917: 0.0, 0.918: 0.0, 0.919: 0.0, 0.92: 0.0, 0.921: 0.0, 0.922: 0.0, 0.923: 0.0, 0.924: 0.0, 0.925: 0.0, 0.926: 0.0, 0.927: 0.0, 0.928: 0.0, 0.929: 0.0, 0.93: 0.0, 0.931: 0.0, 0.932: 0.0, 0.933: 0.0, 0.934: 0.0, 0.935: 0.0, 0.936: 0.0, 0.937: 0.0, 0.938: 0.0, 0.939: 0.0, 0.94: 0.0, 0.941: 0.0, 0.942: 0.0, 0.943: 0.0, 0.944: 0.0, 0.945: 0.0, 0.946: 0.0, 0.947: 0.0, 0.948: 0.0, 0.949: 0.0, 0.95: 0.0, 0.951: 0.0, 0.952: 0.0, 0.953: 0.0, 0.954: 0.0, 0.955: 0.0, 0.956: 0.0, 0.957: 0.0, 0.958: 0.0, 0.959: 0.0, 0.96: 0.0, 0.961: 0.0, 0.962: 0.0, 0.963: 0.0, 0.964: 0.0, 0.965: 0.0, 0.966: 0.0, 0.967: 0.0, 0.968: 0.0, 0.969: 0.0, 0.97: 0.0, 0.971: 0.0, 0.972: 0.0, 0.973: 0.0, 0.974: 0.0, 0.975: 0.0, 0.976: 0.0, 0.977: 0.0, 0.978: 0.0, 0.979: 0.0, 0.98: 0.0, 0.981: 0.0, 0.982: 0.0, 0.983: 0.0, 0.984: 0.0, 0.985: 0.0, 0.986: 0.0, 0.987: 0.0, 0.988: 0.0, 0.989: 0.0, 0.99: 0.0, 0.991: 0.0, 0.992: 0.0, 0.993: 0.0, 0.994: 0.0, 0.995: 0.0, 0.996: 0.0, 0.997: 0.0, 0.998: 0.0, 0.999: 0.0}\n",
      "0.49980600000000003\n"
     ]
    }
   ],
   "source": [
    "case4dict, case4pmf =estimate_mean(100, 0.001)\n",
    "print(case4dict)\n",
    "print(case4pmf)"
   ]
  },
  {
   "cell_type": "code",
   "execution_count": 41,
   "id": "choice-current",
   "metadata": {},
   "outputs": [
    {
     "data": {
      "image/png": "[encoded data removed]",
      "text/plain": [
       "<Figure size 432x288 with 1 Axes>"
      ]
     },
     "metadata": {
      "needs_background": "light"
     },
     "output_type": "display_data"
    }
   ],
   "source": [
    "plt.bar(case4dict.keys(), case4dict.values(), 0.1 ,color='g')\n",
    "plt.text(0.7, 0.05, 'E[X] = 0.499806', size=10, color='purple')\n",
    "plt.ylim(0,0.06)\n",
    "plt.ylabel ('probability')\n",
    "plt.xlabel ('sample mean')\n",
    "plt.savefig('4.png')"
   ]
  },
  {
   "cell_type": "code",
   "execution_count": 42,
   "id": "dimensional-tenant",
   "metadata": {},
   "outputs": [
    {
     "name": "stdout",
     "output_type": "stream",
     "text": [
      "0.5003089333150084\n"
     ]
    }
   ],
   "source": [
    "Ture_mean = sum(data)/100000\n",
    "print(Ture_mean)"
   ]
  },
  {
   "cell_type": "code",
   "execution_count": null,
   "id": "olive-scope",
   "metadata": {},
   "outputs": [],
   "source": []
  }
 ],
 "metadata": {
  "kernelspec": {
   "display_name": "Python 3",
   "language": "python",
   "name": "python3"
  },
  "language_info": {
   "codemirror_mode": {
    "name": "ipython",
    "version": 3
   },
   "file_extension": ".py",
   "mimetype": "text/x-python",
   "name": "python",
   "nbconvert_exporter": "python",
   "pygments_lexer": "ipython3",
   "version": "3.8.5"
  }
 },
 "nbformat": 4,
 "nbformat_minor": 5
}
